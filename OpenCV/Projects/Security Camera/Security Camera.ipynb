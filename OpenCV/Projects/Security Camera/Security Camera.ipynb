{
 "cells": [
  {
   "cell_type": "markdown",
   "id": "32a76f1f",
   "metadata": {},
   "source": [
    "## `Import Necessary Libraries`"
   ]
  },
  {
   "cell_type": "code",
   "execution_count": 1,
   "id": "c142505e",
   "metadata": {},
   "outputs": [],
   "source": [
    "import cv2 # For Image Detection\n",
    "import winsound # For Alarming Purpose"
   ]
  },
  {
   "cell_type": "markdown",
   "id": "dd1f9c1d",
   "metadata": {},
   "source": [
    "### `Capture Video Through Camera`"
   ]
  },
  {
   "cell_type": "code",
   "execution_count": 7,
   "id": "ad698ed6",
   "metadata": {},
   "outputs": [],
   "source": [
    "webcam = cv2.VideoCapture(0)\n",
    "while True:\n",
    "    # Get two images\n",
    "    _, frame1 = webcam.read() # Capture values and frame\n",
    "    _, frame2 = webcam.read() # Capture values and frame\n",
    "    \n",
    "    # Get difference b/w two images\n",
    "    diff = cv2.absdiff(frame1,frame2)\n",
    "    # Convert diff of image into gray\n",
    "    gray = cv2.cvtColor(diff, cv2.COLOR_BGR2GRAY)\n",
    "    \n",
    "    # Find threshold and convert image into binary\n",
    "    _, thresh = cv2.threshold(gray,20,255,cv2.THRESH_BINARY)\n",
    "    \n",
    "    controus, _ = cv2.findContours(thresh, cv2.RETR_TREE,cv2.CHAIN_APPROX_SIMPLE)\n",
    "    \n",
    "    for c in controus:\n",
    "        if cv2.contourArea(c) < 5000:\n",
    "            continue\n",
    "        else:\n",
    "            winsound.Beep(500,100)\n",
    "    \n",
    "    # Display camera\n",
    "    cv2.imshow(\"Security Camera\",thresh)\n",
    "    \n",
    "    if cv2.waitKey(10) == 27:\n",
    "        break\n",
    "webcam.release()\n",
    "cv2.destroyAllWindows()"
   ]
  },
  {
   "cell_type": "code",
   "execution_count": null,
   "id": "6d696dda",
   "metadata": {},
   "outputs": [],
   "source": []
  }
 ],
 "metadata": {
  "kernelspec": {
   "display_name": "Python 3 (ipykernel)",
   "language": "python",
   "name": "python3"
  },
  "language_info": {
   "codemirror_mode": {
    "name": "ipython",
    "version": 3
   },
   "file_extension": ".py",
   "mimetype": "text/x-python",
   "name": "python",
   "nbconvert_exporter": "python",
   "pygments_lexer": "ipython3",
   "version": "3.9.13"
  }
 },
 "nbformat": 4,
 "nbformat_minor": 5
}
