{
 "cells": [
  {
   "cell_type": "markdown",
   "id": "7ff309df",
   "metadata": {},
   "source": [
    "# `Import Necessary Libraries`"
   ]
  },
  {
   "cell_type": "code",
   "execution_count": 1,
   "id": "842633ec",
   "metadata": {},
   "outputs": [],
   "source": [
    "import cv2\n",
    "import numpy as np"
   ]
  },
  {
   "cell_type": "markdown",
   "id": "0b4220b7",
   "metadata": {},
   "source": [
    "# `Load Face Detector Classifier`"
   ]
  },
  {
   "cell_type": "code",
   "execution_count": 2,
   "id": "c262b5af",
   "metadata": {},
   "outputs": [],
   "source": [
    "face_cascade = cv2.CascadeClassifier('../../Classifiers/Detect Face/haarcascade_frontalface_default.xml')"
   ]
  },
  {
   "cell_type": "markdown",
   "id": "5c38df38",
   "metadata": {},
   "source": [
    "# `Load Video`"
   ]
  },
  {
   "cell_type": "code",
   "execution_count": null,
   "id": "cfa8cf86",
   "metadata": {},
   "outputs": [],
   "source": [
    "vid = cv2.VideoCapture(\"../../Video/video3.mp4\")\n",
    "\n",
    "while vid.isOpened():\n",
    "    # Find r and frame\n",
    "    r, frame = vid.read()\n",
    "    \n",
    "    # If r is true run else break\n",
    "    if r == True:\n",
    "        # resize the frame\n",
    "        frame = cv2.resize(frame,(600,300))\n",
    "        \n",
    "        # Before Processing let's create a copy of frame to display orignal side by side\n",
    "        unchange_frame = frame.copy()\n",
    "        \n",
    "        # Grayscale the frame\n",
    "        gray = cv2.cvtColor(frame,cv2.COLOR_BGR2GRAY)\n",
    "        # Detect all faces in frame\n",
    "        faces = face_cascade.detectMultiScale(gray, 1.3,3)\n",
    "        \n",
    "        # Get x, y, w, h of position of faces, now draw circle around it\n",
    "        for (x,y,w,h) in faces:\n",
    "            # Calculate center of faces\n",
    "            center_x = x + w // 2\n",
    "            center_y = y + h // 2\n",
    "            # Calculate radius of face\n",
    "            radius = max(w , h) // 2\n",
    "            \n",
    "            # Now encircle faces\n",
    "            cv2.circle(frame, center=(center_x,center_y), radius=radius, color=(0,255,0), thickness=4, lineType=8)\n",
    "        # Display image\n",
    "        \n",
    "        h_videos = np.hstack((unchange_frame,frame))\n",
    "        cv2.imshow('Face Detection On Video ,Press \"p\" to exit', h_videos)\n",
    "        \n",
    "        # Play video till p is pressed\n",
    "        if cv2.waitKey(10) & 0xff == ord('p'):\n",
    "            break\n",
    "            \n",
    "    else:\n",
    "        break\n",
    "\n",
    "vid.release()\n",
    "cv2.destroyAllWindows()"
   ]
  },
  {
   "cell_type": "code",
   "execution_count": null,
   "id": "fd859c54",
   "metadata": {},
   "outputs": [],
   "source": []
  }
 ],
 "metadata": {
  "kernelspec": {
   "display_name": "Python 3 (ipykernel)",
   "language": "python",
   "name": "python3"
  },
  "language_info": {
   "codemirror_mode": {
    "name": "ipython",
    "version": 3
   },
   "file_extension": ".py",
   "mimetype": "text/x-python",
   "name": "python",
   "nbconvert_exporter": "python",
   "pygments_lexer": "ipython3",
   "version": "3.9.13"
  }
 },
 "nbformat": 4,
 "nbformat_minor": 5
}
