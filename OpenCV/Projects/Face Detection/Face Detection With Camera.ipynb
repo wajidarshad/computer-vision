{
 "cells": [
  {
   "cell_type": "markdown",
   "id": "8aafb1d7",
   "metadata": {},
   "source": [
    "## `Import Necessary Libraries`"
   ]
  },
  {
   "cell_type": "code",
   "execution_count": 1,
   "id": "498cc6ca",
   "metadata": {},
   "outputs": [],
   "source": [
    "import cv2"
   ]
  },
  {
   "cell_type": "markdown",
   "id": "fc2fe6db",
   "metadata": {},
   "source": [
    "### Load `haarcascade_frontalface_default.xml` For Detecting Face"
   ]
  },
  {
   "cell_type": "code",
   "execution_count": 2,
   "id": "c08ec510",
   "metadata": {},
   "outputs": [],
   "source": [
    "face_cascade = cv2.CascadeClassifier('../../Classifiers/Detect Face/haarcascade_frontalface_default.xml')"
   ]
  },
  {
   "cell_type": "markdown",
   "id": "2cbf7e59",
   "metadata": {},
   "source": [
    "## Open `WebCam` And `Perform Face Detection Operation`"
   ]
  },
  {
   "cell_type": "code",
   "execution_count": 3,
   "id": "393064eb",
   "metadata": {},
   "outputs": [],
   "source": [
    "cam = cv2.VideoCapture(0)\n",
    "# Loop through until cam is opened\n",
    "\n",
    "while cam.isOpened():\n",
    "    # Get r and frame values from cam\n",
    "    r, frame = cam.read()\n",
    "    \n",
    "    # if r is true, continue otherwise break\n",
    "    if r == True:\n",
    "        # Convert image into gray\n",
    "        gray = cv2.cvtColor(frame,cv2.COLOR_BGR2GRAY)\n",
    "        # Detect all faces in frame\n",
    "        faces = face_cascade.detectMultiScale(gray, scaleFactor=1.5, minNeighbors=4)\n",
    "        # It give us x and y (starting position of face), its width and height..\n",
    "        # Let's draw circle around images\n",
    "        for (x, y, w, h) in faces:\n",
    "            # Calculate the center of the face\n",
    "            center_x = x + w // 2\n",
    "            center_y = y + h // 2\n",
    "            # Calculate the radius of the circle\n",
    "            radius = max(w, h) // 2\n",
    "            # Draw circle around face\n",
    "            cv2.circle(img=frame, center=(center_x, center_y), radius=radius, color=(0, 255, 0), thickness=4, lineType=8)\n",
    "        # Display image\n",
    "        cv2.imshow('Face Detection', frame)\n",
    "        # Wait till 'p' is pressed\n",
    "        if cv2.waitKey(10) & 0xff == ord('p'):\n",
    "            break\n",
    "    else:\n",
    "        break\n",
    "\n",
    "cam.release()\n",
    "cv2.destroyAllWindows()\n",
    "\n",
    "del cam, r, frame, x,y, w,h,gray"
   ]
  },
  {
   "cell_type": "code",
   "execution_count": null,
   "id": "90e3cbb5",
   "metadata": {},
   "outputs": [],
   "source": []
  }
 ],
 "metadata": {
  "kernelspec": {
   "display_name": "Python 3 (ipykernel)",
   "language": "python",
   "name": "python3"
  },
  "language_info": {
   "codemirror_mode": {
    "name": "ipython",
    "version": 3
   },
   "file_extension": ".py",
   "mimetype": "text/x-python",
   "name": "python",
   "nbconvert_exporter": "python",
   "pygments_lexer": "ipython3",
   "version": "3.9.13"
  }
 },
 "nbformat": 4,
 "nbformat_minor": 5
}
