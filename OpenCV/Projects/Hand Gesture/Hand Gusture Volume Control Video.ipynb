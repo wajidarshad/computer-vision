{
 "cells": [
  {
   "cell_type": "code",
   "execution_count": 1,
   "id": "86060536",
   "metadata": {},
   "outputs": [],
   "source": [
    "import cv2\n",
    "import mediapipe as mp\n",
    "import pyautogui"
   ]
  },
  {
   "cell_type": "markdown",
   "id": "bfe78cd6",
   "metadata": {},
   "source": [
    "## `Import Vidoe and Control It's value through Hand Gusture In Video`"
   ]
  },
  {
   "cell_type": "code",
   "execution_count": 2,
   "id": "e3befbed",
   "metadata": {},
   "outputs": [],
   "source": [
    "vid = cv2.VideoCapture('../../Video/video3.mp4')\n",
    "\n",
    "# Create 4 variable to control hands \n",
    "x1 = x2 = y1 = y2 = 0\n",
    "\n",
    "# Get hands\n",
    "my_hands = mp.solutions.hands.Hands()\n",
    "\n",
    "# Get points on hands\n",
    "drawing_utils = mp.solutions.drawing_utils\n",
    "\n",
    "# Open The Video And Trying To Detect Hand\n",
    "while vid.isOpened():\n",
    "    # Get r and frame\n",
    "    r, frame = vid.read()\n",
    "    # If r is true then continue running\\\n",
    "    if r == True:\n",
    "        \n",
    "        # Get frame width and height\n",
    "        frame_width, frame_height, channel = frame.shape\n",
    "        \n",
    "        # Convert BGR to RGB\n",
    "        rgb_image = cv2.cvtColor(frame, cv2.COLOR_BGR2RGB)\n",
    "        # Get output\n",
    "        output = my_hands.process(rgb_image)\n",
    "        # Get Hands\n",
    "        hands = output.multi_hand_landmarks\n",
    "        \n",
    "        # Check if hand\n",
    "        if hands:\n",
    "            # Loop through hands\n",
    "            for hand in hands:\n",
    "                # Draw points on hands\n",
    "                drawing_utils.draw_landmarks(frame, hand)\n",
    "                # Collect finger points\n",
    "                landmarks = hand.landmark\n",
    "                \n",
    "                # Loop Through points\n",
    "                for id, landmark in enumerate (landmarks):\n",
    "                    x = int(landmark.x * frame_width) \n",
    "                    y = int(landmark.y * frame_height) \n",
    "                    \n",
    "                    if id == 8: # Finger with thumb\n",
    "                        x1 = x\n",
    "                        y1 = y\n",
    "                        \n",
    "                        # Draw circle on it\n",
    "                        cv2.circle(frame, center=(x,y), radius=8,color=(255,120,20),thickness=4)\n",
    "                    \n",
    "                    if id == 4: # Thumb\n",
    "                        x2 = x\n",
    "                        y2 = y\n",
    "                        \n",
    "                        # Draw circle on it\n",
    "                        cv2.circle(frame, center=(x,y), radius=8,color=(55,20,120),thickness=4)\n",
    "                        \n",
    "                    # Calculate distance b/w points\n",
    "                    dist = ((x2-x1)**2 + (y2-y1)**2) ** (0.5)\n",
    "                    \n",
    "                    if dist > 50:\n",
    "                        pyautogui.press('volumeup')\n",
    "                    else:\n",
    "                        pyautogui.press('volumedown')\n",
    "                        \n",
    "                    # Draw line b/w axis\n",
    "                    # cv2.line(frame,(x1, y1),(x2,y2),color=(0,255,0), thickness=2)\n",
    "                \n",
    "                # Display frame\n",
    "                cv2.imshow(\"Hands Volume Control Using Python\", frame)\n",
    "        # If user press p cancel\n",
    "        if cv2.waitKey(5) & 0xff == ord('p'):\n",
    "            break\n",
    "    else:\n",
    "        break\n",
    "    \n",
    "vid.release()\n",
    "cv2.destroyAllWindows()"
   ]
  },
  {
   "cell_type": "code",
   "execution_count": null,
   "id": "437d97b9",
   "metadata": {},
   "outputs": [],
   "source": []
  }
 ],
 "metadata": {
  "kernelspec": {
   "display_name": "Python 3 (ipykernel)",
   "language": "python",
   "name": "python3"
  },
  "language_info": {
   "codemirror_mode": {
    "name": "ipython",
    "version": 3
   },
   "file_extension": ".py",
   "mimetype": "text/x-python",
   "name": "python",
   "nbconvert_exporter": "python",
   "pygments_lexer": "ipython3",
   "version": "3.9.13"
  }
 },
 "nbformat": 4,
 "nbformat_minor": 5
}
