{
 "cells": [
  {
   "cell_type": "markdown",
   "id": "afe10503",
   "metadata": {},
   "source": [
    "## `Import Libraries`"
   ]
  },
  {
   "cell_type": "code",
   "execution_count": null,
   "id": "b64d3bda",
   "metadata": {},
   "outputs": [],
   "source": [
    "import cv2\n",
    "import mediapipe as mp\n",
    "import pyautogui\n",
    "\n"
   ]
  },
  {
   "cell_type": "code",
   "execution_count": null,
   "id": "a227321a",
   "metadata": {},
   "outputs": [],
   "source": [
    "# Assign x1,x2,y1,y2 to calculate distance b/w thumb and fingure\n",
    "x1 = y1 = x1 =  y2 = 0 # Initilay they are set to 0\n"
   ]
  },
  {
   "cell_type": "markdown",
   "id": "0fd5b7b3",
   "metadata": {},
   "source": [
    "## `Hand Gusture Volume Control`"
   ]
  },
  {
   "cell_type": "code",
   "execution_count": null,
   "id": "de81e0c4",
   "metadata": {},
   "outputs": [],
   "source": [
    "# Get web camera\n",
    "cam = cv2.VideoCapture(0)\n",
    "# Detect Hands\n",
    "my_hands = mp.solutions.hands.Hands()\n",
    "# Drawing Utills\n",
    "drawing_utils = mp.solutions.drawing_utils # We create two objects. hands to detect hand and drawing utils to draw points on hands\n",
    "\n",
    "\n",
    "# Open the camera and detect hands\n",
    "while cam.isOpened():\n",
    "    # Get r and frame from vedio \n",
    "    r, frame = cam.read()\n",
    "    \n",
    "    # if r is true, run\n",
    "    if r == True:\n",
    "        # Resize the Frame\n",
    "        frame = cv2.resize(frame,(300,300))\n",
    "        frame_width, frame_height,channel = frame.shape\n",
    "        \n",
    "        # Convert BGR to RGB\n",
    "        rgb_image = cv2.cvtColor(frame,cv2.COLOR_BGR2RGB)\n",
    "        output = my_hands.process(rgb_image) \n",
    "        hands = output.multi_hand_landmarks # Collect all the hands present in image\n",
    "        \n",
    "        if hands:\n",
    "            for hand in hands:\n",
    "                drawing_utils.draw_landmarks(frame, hand) # Draw points on hand\n",
    "                # Collect finger points\n",
    "                landmarks = hand.landmark\n",
    "                \n",
    "                # Loop through points\n",
    "                for id, landmark in enumerate (landmarks):\n",
    "                    x = int(landmark.x * frame_width)\n",
    "                    y = int(landmark.y * frame_height)\n",
    "                    \n",
    "                    if id == 4:\n",
    "                        cv2.circle(frame, center=(x,y), radius=9, color=(120,55,0), thickness=3)\n",
    "                        x1 = x\n",
    "                        y1 = y\n",
    "                    \n",
    "                    if id == 8:\n",
    "                        cv2.circle(frame, center=(x,y), radius=9, color=(0,155,250), thickness=3)\n",
    "                        x2 = x\n",
    "                        y2 = y\n",
    "                    \n",
    "                    # Calculate distance b/w points\n",
    "                    dist = ((x2-x1)**2 + (y2-y1)**2) ** (0.5) // 2\n",
    "                    \n",
    "                    if dist > 50:\n",
    "                        pyautogui.press('volumeup')\n",
    "                    else:\n",
    "                        pyautogui.press('volumedown')\n",
    "   \n",
    "                    \n",
    "                    # Draw line b/w axis\n",
    "                    cv2.line(frame,(x1, y1),(x2,y2),color=(0,255,0), thickness=2)\n",
    "        cv2.imshow(\"Hands Volume Control Using Python\", frame)\n",
    "        if cv2.waitKey(10) & 0xff == ord('p'):\n",
    "            break\n",
    "    else:\n",
    "        break\n",
    "    \n",
    "cam.release()\n",
    "cv2.destroyAllWindows()"
   ]
  },
  {
   "cell_type": "code",
   "execution_count": null,
   "id": "f8e2cdac",
   "metadata": {},
   "outputs": [],
   "source": []
  }
 ],
 "metadata": {
  "kernelspec": {
   "display_name": "Python 3 (ipykernel)",
   "language": "python",
   "name": "python3"
  },
  "language_info": {
   "codemirror_mode": {
    "name": "ipython",
    "version": 3
   },
   "file_extension": ".py",
   "mimetype": "text/x-python",
   "name": "python",
   "nbconvert_exporter": "python",
   "pygments_lexer": "ipython3",
   "version": "3.9.13"
  }
 },
 "nbformat": 4,
 "nbformat_minor": 5
}
