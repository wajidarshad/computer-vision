{
 "cells": [
  {
   "cell_type": "markdown",
   "id": "756aba15-7ea4-493b-ab82-9e0438cba1fe",
   "metadata": {},
   "source": [
    "# Working with Videos"
   ]
  },
  {
   "cell_type": "markdown",
   "id": "25afa135-c1cc-4f43-adf4-eb39f6c38eb9",
   "metadata": {},
   "source": [
    "- #### Don't Run These Cells Here, Because In Jupyter Notebook Videos are Going to be Stuck.\n",
    "- #### I have created a separate Folder with Named Lecture 06, where I have created .py files for All these\n",
    "- #### You can Go and Play with there... I have created this notebook just for learning and understanding...."
   ]
  },
  {
   "cell_type": "markdown",
   "id": "b8a5c726-a0f0-478e-939e-bb2bdff8266e",
   "metadata": {},
   "source": [
    "## 01. Import and Load Libraries"
   ]
  },
  {
   "cell_type": "code",
   "execution_count": 2,
   "id": "28f700e8-4704-40eb-8770-0467d0d061fd",
   "metadata": {},
   "outputs": [],
   "source": [
    "import matplotlib.pyplot as plt\n",
    "import numpy as np\n",
    "import cv2, sys\n",
    "\n",
    "\n",
    "# Manually specify the path to the project directory\n",
    "project_path = '../../'\n",
    "\n",
    "# Add the project directory to sys.path\n",
    "sys.path.append(project_path)\n",
    "\n",
    "from mansoor import Repeatable"
   ]
  },
  {
   "cell_type": "markdown",
   "id": "8595a42f-b330-4191-87b7-b70e2855d3d5",
   "metadata": {},
   "source": [
    "### Create an instance of Repeate"
   ]
  },
  {
   "cell_type": "code",
   "execution_count": 5,
   "id": "d411e3ed-be73-4507-9512-b4a873cc4a82",
   "metadata": {},
   "outputs": [],
   "source": [
    "r = Repeatable(300,300, base_path='../../data/images/', video_path='../../data/video/') # It have functions that we need to do Repeatedly"
   ]
  },
  {
   "cell_type": "markdown",
   "id": "715df7e6-affc-47ee-926d-1ecb4e2f06aa",
   "metadata": {
    "jp-MarkdownHeadingCollapsed": true
   },
   "source": [
    "## 02. Play a Video Using OpenCV"
   ]
  },
  {
   "cell_type": "markdown",
   "id": "d0b29d45-8324-4761-8eb4-de1ccead0ed0",
   "metadata": {},
   "source": [
    "### Load Video"
   ]
  },
  {
   "cell_type": "code",
   "execution_count": 6,
   "id": "9eddee1a-a51e-483f-8304-cb0062017920",
   "metadata": {},
   "outputs": [],
   "source": [
    "video = r.load_video()"
   ]
  },
  {
   "cell_type": "code",
   "execution_count": 7,
   "id": "e74f0617-a182-47b5-8015-c6e120b61d78",
   "metadata": {},
   "outputs": [],
   "source": [
    "while video.isOpened():\n",
    "    r, frame = video.read()\n",
    "    if r == True:\n",
    "        cv2.imshow(\"Video\", frame)\n",
    "\n",
    "        if cv2.waitKey(0) & 0xff == ord('p'):\n",
    "            break\n",
    "\n",
    "    else:\n",
    "        break"
   ]
  },
  {
   "cell_type": "markdown",
   "id": "03931883-917d-4349-a327-b087f6052715",
   "metadata": {},
   "source": [
    "- `cv2.waitKey(0)` Here 0 represents Number of frame in a second. Currently we pass 0, so our video `Doesnot run`. We need to press button for that\n",
    "- `ord('p')` Represents the ASCII value of a button.\n",
    "- `r, frame` In this line `r` contain the boolean data while `frame` contain the current image in that frame"
   ]
  },
  {
   "cell_type": "code",
   "execution_count": 2,
   "id": "d8fbb2ed-0318-4c98-bcfc-7e78bcd7491a",
   "metadata": {},
   "outputs": [
    {
     "name": "stdout",
     "output_type": "stream",
     "text": [
      "112\n"
     ]
    }
   ],
   "source": [
    "print(ord('p'))"
   ]
  },
  {
   "cell_type": "markdown",
   "id": "8b71139a-f2d5-4b23-bf6e-2a99ec60dfaf",
   "metadata": {},
   "source": [
    "### Load Camera"
   ]
  },
  {
   "cell_type": "code",
   "execution_count": null,
   "id": "b49bc3a2-9bec-4008-98c5-c320bfc23d18",
   "metadata": {},
   "outputs": [],
   "source": [
    "cam = cv2.VideoCapture(0) # Through video capture we can open video and also we can open camera\n",
    "# If we want to open camera we need to pass its number\n",
    "\n",
    "while True: # We run loop continuously to play video\n",
    "    r, frame = cam.read() \n",
    "\n",
    "    if r == True:\n",
    "        frame = cv2.resize(frame, (300,300))\n",
    "        cv2.imshow('Camera', frame)\n",
    "\n",
    "        if cv2.waitKey(25) & 0xff == ord('p'):\n",
    "            break\n",
    "    \n",
    "    else:\n",
    "        break\n",
    "\n",
    "cam.release() # We relase camera, if loop is break\n",
    "cv2.destroyAllWindows() # Then we distroy all windows"
   ]
  },
  {
   "cell_type": "markdown",
   "id": "676c20db-abaf-40fa-b236-f174dd38794a",
   "metadata": {},
   "source": [
    "**Note:** If we don't release camera with cam.release(), even though it end the loop our camera is still opened"
   ]
  },
  {
   "cell_type": "markdown",
   "id": "b752baa2-bcd3-4a01-a80a-5e7ae5c8df33",
   "metadata": {},
   "source": [
    "## 03. Slow and Fast Video Motion"
   ]
  },
  {
   "cell_type": "code",
   "execution_count": null,
   "id": "ef020486-46ff-41d7-99de-c926b8ea923f",
   "metadata": {},
   "outputs": [],
   "source": [
    "video = r.load_video()\n",
    "\n",
    "# Get the video's frames per second (fps)\n",
    "fps = video.get(cv2.CAP_PROP_FPS)\n",
    "\n",
    "# Set initial delay based on fps (this will help maintain the video’s normal speed)\n",
    "delay = int(1000 / fps)  # Delay in milliseconds per frame\n",
    "\n",
    "while video.isOpened():\n",
    "    ret, frame = video.read()\n",
    "\n",
    "    if ret:\n",
    "        cv2.imshow('Video', frame)\n",
    "\n",
    "        key = cv2.waitKey(delay) & 0xFF\n",
    "\n",
    "        if key == ord('f'):  # Fast motion\n",
    "            # Decrease delay to speed up playback\n",
    "            delay = max(1, delay // 2)  # Min delay is 1ms\n",
    "            print(f'Currently Video is playing at faster speed with delay {delay}ms')\n",
    "\n",
    "        elif key == ord('s'):  # Slow motion\n",
    "            # Increase delay to slow down playback\n",
    "            delay = max(1, delay * 2)\n",
    "            print(f'Currently Video is playing at slower speed with delay {delay}ms')\n",
    "\n",
    "        elif key == ord('q'):  # Quit video\n",
    "            print(\"Breaking Video\")\n",
    "            break\n",
    "    else:\n",
    "        break\n",
    "\n",
    "video.release()\n",
    "cv2.destroyAllWindows()"
   ]
  },
  {
   "cell_type": "markdown",
   "id": "ddd946a3-8294-4143-a539-805524236c8f",
   "metadata": {},
   "source": [
    "`fps = video.get(cv2.CAP_PROP_FPS)` Gets the actual frames of video"
   ]
  },
  {
   "cell_type": "markdown",
   "id": "7af025fe-a625-45e9-921a-140b409bc3f2",
   "metadata": {},
   "source": [
    "## 04. Edge Detection With Camera"
   ]
  },
  {
   "cell_type": "code",
   "execution_count": null,
   "id": "b415ccad-434e-4181-8c8d-bd4c7fcd1d8d",
   "metadata": {},
   "outputs": [],
   "source": [
    "video = cv2.VideoCapture(0)\n",
    "\n",
    "kernal = np.ones((3,3), np.int8)\n",
    "\n",
    "while True:\n",
    "    r, frame = video.read()\n",
    "\n",
    "    if r:\n",
    "        frame = cv2.resize(frame, (500,500))\n",
    "        frame = cv2.morphologyEx(frame, cv2.MORPH_DILATE, kernal)\n",
    "        frame = cv2.Canny(frame, 50, 250)\n",
    "        cv2.imshow(\"Camera With Morphological Operation\", frame)\n",
    "\n",
    "        if cv2.waitKey(25) & 0xff == ord('p'):\n",
    "            break\n",
    "\n",
    "    else:\n",
    "        break\n",
    "\n",
    "video.release()\n",
    "cv2.destroyAllWindows()"
   ]
  },
  {
   "cell_type": "markdown",
   "id": "404d4cc8-021c-4984-b1cb-e01bba017db0",
   "metadata": {},
   "source": [
    "## 05. Background Subtraction Using OpenCV"
   ]
  },
  {
   "cell_type": "code",
   "execution_count": null,
   "id": "fe421308-1a4d-4f93-84b3-f307d1259404",
   "metadata": {},
   "outputs": [],
   "source": [
    "cam = cv2.VideoCapture(0)\n",
    "\n",
    "# Mask To Subtract Background From Live Video\n",
    "mask = cv2.createBackgroundSubtractorKNN()\n",
    "while True:\n",
    "    r, frame = cam.read()\n",
    "\n",
    "    if r==True:\n",
    "        frame = cv2.resize(frame, (500,500))\n",
    "        frame = mask.apply(frame)\n",
    "        cv2.imshow(\"Video\", frame)\n",
    "\n",
    "        if cv2.waitKey(25) & 0xff == ord('p'):\n",
    "            break\n",
    "    else:\n",
    "        break\n",
    "\n",
    "cam.release()\n",
    "cv2.destroyAllWindows()"
   ]
  },
  {
   "cell_type": "markdown",
   "id": "c4943a03-b9c3-4582-b299-887beaec4f33",
   "metadata": {},
   "source": [
    "## 06. Record and Save Video Using OpenCV"
   ]
  },
  {
   "cell_type": "code",
   "execution_count": null,
   "id": "3c8c14dc-7c6f-4d99-85ba-508d33a6c65f",
   "metadata": {},
   "outputs": [],
   "source": [
    "# Open the webcam\n",
    "cam = cv2.VideoCapture(0)\n",
    "\n",
    "# Define the codec using 'mp4v' for .mp4 files\n",
    "f = cv2.VideoWriter_fourcc(*'mp4v')\n",
    "\n",
    "# Get the resolution of the captured frames\n",
    "frame_width = int(cam.get(cv2.CAP_PROP_FRAME_WIDTH))\n",
    "frame_height = int(cam.get(cv2.CAP_PROP_FRAME_HEIGHT))\n",
    "\n",
    "# Create VideoWriter object to write the video\n",
    "format = cv2.VideoWriter('output.mp4', f, 30, (frame_width, frame_height))\n",
    "\n",
    "while cam.isOpened():\n",
    "    r, frame = cam.read()\n",
    "    if r:\n",
    "        cv2.imshow(\"Camera\", frame)\n",
    "        format.write(frame)\n",
    "        if cv2.waitKey(1) & 0xFF == ord('p'):  # Press 'p' to stop recording\n",
    "            break\n",
    "    else:\n",
    "        break\n",
    "\n",
    "# Release everything when done\n",
    "cam.release()\n",
    "format.release()\n",
    "cv2.destroyAllWindows()"
   ]
  },
  {
   "cell_type": "markdown",
   "id": "c9595d20-ad04-4992-8cf9-488d3cf12195",
   "metadata": {},
   "source": [
    "## 07. Filter Colors In OpenCV"
   ]
  },
  {
   "cell_type": "code",
   "execution_count": null,
   "id": "f6da9545-79c2-4924-8464-e13af9fe3d7c",
   "metadata": {},
   "outputs": [],
   "source": [
    "# Open the webcam\n",
    "cam = cv2.VideoCapture(0)\n",
    "\n",
    "def mansoor(x):\n",
    "    pass\n",
    "\n",
    "# Create a window for the camera feed\n",
    "cv2.namedWindow(\"Camera\")\n",
    "\n",
    "# Create TrackBars for Lower Bound (HSV)\n",
    "cv2.createTrackbar('lb', 'Camera', 0, 255, mansoor)  # Lower bound - Blue\n",
    "cv2.createTrackbar('lg', 'Camera', 0, 255, mansoor)  # Lower bound - Green\n",
    "cv2.createTrackbar('lr', 'Camera', 0, 255, mansoor)  # Lower bound - Red\n",
    "\n",
    "# Create TrackBars for Upper Bound (HSV)\n",
    "cv2.createTrackbar('ub', 'Camera', 255, 255, mansoor)  # Upper bound - Blue\n",
    "cv2.createTrackbar('ug', 'Camera', 255, 255, mansoor)  # Upper bound - Green\n",
    "cv2.createTrackbar('ur', 'Camera', 255, 255, mansoor)  # Upper bound - Red\n",
    "\n",
    "while cam.isOpened():\n",
    "    ret, frame = cam.read()\n",
    "\n",
    "    if not ret:\n",
    "        break\n",
    "\n",
    "    # Get the trackbar positions for the lower and upper bounds\n",
    "    lb = cv2.getTrackbarPos('lb', \"Camera\")\n",
    "    lg = cv2.getTrackbarPos('lg', \"Camera\")\n",
    "    lr = cv2.getTrackbarPos('lr', \"Camera\")\n",
    "\n",
    "    ub = cv2.getTrackbarPos('ub', \"Camera\")\n",
    "    ug = cv2.getTrackbarPos('ug', \"Camera\")\n",
    "    ur = cv2.getTrackbarPos('ur', \"Camera\")\n",
    "\n",
    "    # Convert the trackbar values to numpy arrays\n",
    "    low = np.array([lb, lg, lr])\n",
    "    high = np.array([ub, ug, ur])\n",
    "    \n",
    "    # Resize Frame To Get Smaller Display\n",
    "    frame = cv2.resize(frame, (300,300))\n",
    "\n",
    "    # Convert the frame to HSV (Hue, Saturation, Value)\n",
    "    hsv = cv2.cvtColor(frame, cv2.COLOR_BGR2HSV)\n",
    "\n",
    "    # Create a mask based on the lower and upper bounds\n",
    "    mask = cv2.inRange(hsv, low, high)\n",
    "\n",
    "    # Bitwise AND the original frame and the mask to get the filtered image\n",
    "    filtered_image = cv2.bitwise_and(frame, frame, mask=mask)\n",
    "\n",
    "    # Display the original frame\n",
    "    cv2.imshow('Original Camera Feed', frame)\n",
    "\n",
    "    # Display the mask (the part that matches the color)\n",
    "    cv2.imshow('Mask', mask)\n",
    "\n",
    "    # Display the HSV image (this is the converted BGR image to HSV)\n",
    "    cv2.imshow('HSV Image', hsv)\n",
    "\n",
    "    # Display the filtered image\n",
    "    cv2.imshow('Filtered Camera Feed', filtered_image)\n",
    "\n",
    "    # Wait for a key press, and if 'p' is pressed, break the loop\n",
    "    if cv2.waitKey(1) & 0xFF == ord('p'):\n",
    "        break\n",
    "\n",
    "# Release the camera and close all windows\n",
    "cam.release()\n",
    "cv2.destroyAllWindows()\n"
   ]
  },
  {
   "cell_type": "code",
   "execution_count": null,
   "id": "ae6c4303-bde3-4d20-a30e-fc95c8c57730",
   "metadata": {},
   "outputs": [],
   "source": []
  }
 ],
 "metadata": {
  "kernelspec": {
   "display_name": "Python 3 (ipykernel)",
   "language": "python",
   "name": "python3"
  },
  "language_info": {
   "codemirror_mode": {
    "name": "ipython",
    "version": 3
   },
   "file_extension": ".py",
   "mimetype": "text/x-python",
   "name": "python",
   "nbconvert_exporter": "python",
   "pygments_lexer": "ipython3",
   "version": "3.12.4"
  }
 },
 "nbformat": 4,
 "nbformat_minor": 5
}
