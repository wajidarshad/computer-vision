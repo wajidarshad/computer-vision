{
 "cells": [
  {
   "cell_type": "markdown",
   "id": "be9b031f",
   "metadata": {},
   "source": [
    "# 1. Import Required Libraries"
   ]
  },
  {
   "cell_type": "code",
   "execution_count": 1,
   "id": "1eb51279",
   "metadata": {},
   "outputs": [],
   "source": [
    "import cv2\n",
    "import numpy as np\n",
    "import matplotlib.pyplot as plt\n",
    "from skimage.feature import hog\n",
    "from skimage import color\n",
    "from sklearn.svm import SVC\n",
    "from sklearn.model_selection import train_test_split\n",
    "from sklearn.metrics import accuracy_score\n",
    "from glob import glob\n",
    "import os\n"
   ]
  },
  {
   "cell_type": "markdown",
   "id": "6a5cc288",
   "metadata": {},
   "source": [
    "# 2. Load Dataset (Positive & Negative Samples)"
   ]
  },
  {
   "cell_type": "code",
   "execution_count": 2,
   "id": "8a95f955",
   "metadata": {},
   "outputs": [],
   "source": [
    "# Load positive samples (people)\n",
    "pos_images = glob(\"C:/Users/XyloCrafts/Desktop/week 13-14/Dataset 1 CCTV/human detection dataset/1/*.png\")\n",
    "\n",
    "# Load negative samples (non-people images)\n",
    "neg_images = glob(\"C:/Users/XyloCrafts/Desktop/week 13-14/Dataset 1 CCTV/human detection dataset/0/*.png\")\n"
   ]
  },
  {
   "cell_type": "markdown",
   "id": "6cbdb25b",
   "metadata": {},
   "source": [
    "# 3. Extract HOG Features from Images"
   ]
  },
  {
   "cell_type": "code",
   "execution_count": 4,
   "id": "b6db6686",
   "metadata": {},
   "outputs": [],
   "source": [
    "def extract_hog_features(image_path):\n",
    "    image = cv2.imread(image_path)\n",
    "    image = cv2.resize(image, (64, 128))  # Resize to standard size\n",
    "    gray = color.rgb2gray(image)  # Convert to grayscale\n",
    "    features = hog(gray, \n",
    "                   orientations=9, \n",
    "                   pixels_per_cell=(8, 8), \n",
    "                   cells_per_block=(2, 2), \n",
    "                   block_norm='L2-Hys')  # Extract HOG features\n",
    "    return features\n"
   ]
  },
  {
   "cell_type": "markdown",
   "id": "f2899107",
   "metadata": {},
   "source": [
    "# 4. Prepare Training Data"
   ]
  },
  {
   "cell_type": "code",
   "execution_count": 5,
   "id": "02449e3a",
   "metadata": {},
   "outputs": [],
   "source": [
    "# Extract features for all images\n",
    "X = []\n",
    "y = []\n",
    "\n",
    "# Process positive images\n",
    "for img in pos_images:\n",
    "    X.append(extract_hog_features(img))\n",
    "    y.append(1)  # Label for \"person\" is 1\n",
    "\n",
    "# Process negative images\n",
    "for img in neg_images:\n",
    "    X.append(extract_hog_features(img))\n",
    "    y.append(0)  # Label for \"non-person\" is 0\n",
    "\n",
    "# Convert to NumPy arrays\n",
    "X = np.array(X)\n",
    "y = np.array(y)\n"
   ]
  },
  {
   "cell_type": "markdown",
   "id": "76a911fc",
   "metadata": {},
   "source": [
    "# 5. Train SVM Classifier"
   ]
  },
  {
   "cell_type": "code",
   "execution_count": 6,
   "id": "e47deee9",
   "metadata": {},
   "outputs": [
    {
     "name": "stdout",
     "output_type": "stream",
     "text": [
      "Model Accuracy: 80.00%\n"
     ]
    }
   ],
   "source": [
    "# Split dataset into training and testing\n",
    "X_train, X_test, y_train, y_test = train_test_split(X, y, test_size=10, random_state=20)\n",
    "\n",
    "# Train SVM\n",
    "svm = SVC(kernel='linear')  # Use a linear SVM\n",
    "svm.fit(X_train, y_train)\n",
    "\n",
    "# Evaluate Model\n",
    "y_pred = svm.predict(X_test)\n",
    "accuracy = accuracy_score(y_test, y_pred)\n",
    "print(f\"Model Accuracy: {accuracy * 100:.2f}%\")\n"
   ]
  },
  {
   "cell_type": "markdown",
   "id": "8dbf784e",
   "metadata": {},
   "source": [
    "# 6. Detect People in a Test Image"
   ]
  },
  {
   "cell_type": "code",
   "execution_count": 7,
   "id": "b14a05cf",
   "metadata": {},
   "outputs": [
    {
     "name": "stdout",
     "output_type": "stream",
     "text": [
      "Person Detected ✅\n"
     ]
    }
   ],
   "source": [
    "def detect_person(image_path, svm_model):\n",
    "    image = cv2.imread(image_path)\n",
    "    image = cv2.resize(image, (64, 128))  # Resize\n",
    "    gray = color.rgb2gray(image)  # Convert to grayscale\n",
    "    features = hog(gray, orientations=9, pixels_per_cell=(8, 8), \n",
    "                   cells_per_block=(2, 2), block_norm='L2-Hys')  # Extract HOG\n",
    "\n",
    "    features = np.array(features).reshape(1, -1)  # Reshape for SVM\n",
    "    prediction = svm_model.predict(features)\n",
    "\n",
    "    if prediction == 1:\n",
    "        print(\"Person Detected ✅\")\n",
    "    else:\n",
    "        print(\"No Person Detected ❌\")\n",
    "\n",
    "# Test on a new image\n",
    "detect_person(\"cs.png\", svm)\n"
   ]
  },
  {
   "cell_type": "code",
   "execution_count": 8,
   "id": "8106bf4e",
   "metadata": {},
   "outputs": [],
   "source": [
    "import cv2\n",
    "import numpy as np\n",
    "from skimage.feature import hog\n",
    "from skimage import color\n",
    "\n",
    "def detect_person(image_path, svm_model):\n",
    "    image = cv2.imread(image_path)\n",
    "    image_resized = cv2.resize(image, (64, 128))  # Resize for feature extraction\n",
    "    gray = color.rgb2gray(image_resized)  # Convert to grayscale\n",
    "    \n",
    "    # Extract HOG features\n",
    "    features = hog(gray, orientations=9, pixels_per_cell=(8, 8), \n",
    "                   cells_per_block=(2, 2), block_norm='L2-Hys')\n",
    "    \n",
    "    features = np.array(features).reshape(1, -1)  # Reshape for SVM\n",
    "    prediction = svm_model.predict(features)\n",
    "    \n",
    "    label = \"Person Detected ✅\" if prediction == 1 else \"No Person Detected ❌\"\n",
    "    color_text = (0, 255, 0) if prediction == 1 else (0, 0, 255)\n",
    "    \n",
    "    # Display the result on the image\n",
    "    output_image = image.copy()\n",
    "    cv2.putText(output_image, label, (20, 40), cv2.FONT_HERSHEY_SIMPLEX, 1, color_text, 2)\n",
    "    \n",
    "    cv2.imshow(\"Detection Result\", output_image)\n",
    "    cv2.waitKey(0)\n",
    "    cv2.destroyAllWindows()\n",
    "\n",
    "# Test on a new image\n",
    "detect_person(\"cs.png\", svm)\n"
   ]
  },
  {
   "cell_type": "markdown",
   "id": "91a02a14",
   "metadata": {},
   "source": [
    "# 7. Real-Time Person Detection"
   ]
  },
  {
   "cell_type": "code",
   "execution_count": null,
   "id": "887c454a",
   "metadata": {},
   "outputs": [],
   "source": [
    "cap = cv2.VideoCapture(0)  # Open webcam\n",
    "\n",
    "while True:\n",
    "    ret, frame = cap.read()\n",
    "    if not ret:\n",
    "        break\n",
    "\n",
    "    frame_resized = cv2.resize(frame, (64, 128))\n",
    "    gray = color.rgb2gray(frame_resized)\n",
    "    features = hog(gray, orientations=9, pixels_per_cell=(8, 8), \n",
    "                   cells_per_block=(2, 2), block_norm='L2-Hys')\n",
    "\n",
    "    features = np.array(features).reshape(1, -1)\n",
    "    prediction = svm.predict(features)\n",
    "\n",
    "    if prediction == 1:\n",
    "        cv2.putText(frame, \"Person Detected\", (10, 50), cv2.FONT_HERSHEY_SIMPLEX, 1, (0, 255, 0), 2)\n",
    "\n",
    "    cv2.imshow(\"Live Detection\", frame)\n",
    "\n",
    "    if cv2.waitKey(1) & 0xFF == ord('q'):\n",
    "        break\n",
    "\n",
    "cap.release()\n",
    "cv2.destroyAllWindows()\n"
   ]
  },
  {
   "cell_type": "code",
   "execution_count": null,
   "id": "cfbfc028",
   "metadata": {},
   "outputs": [],
   "source": []
  }
 ],
 "metadata": {
  "kernelspec": {
   "display_name": "Python 3",
   "language": "python",
   "name": "python3"
  },
  "language_info": {
   "codemirror_mode": {
    "name": "ipython",
    "version": 3
   },
   "file_extension": ".py",
   "mimetype": "text/x-python",
   "name": "python",
   "nbconvert_exporter": "python",
   "pygments_lexer": "ipython3",
   "version": "3.8.8"
  }
 },
 "nbformat": 4,
 "nbformat_minor": 5
}
