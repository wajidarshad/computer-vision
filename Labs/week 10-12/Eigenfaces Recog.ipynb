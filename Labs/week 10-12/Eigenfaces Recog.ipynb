{
 "cells": [
  {
   "cell_type": "markdown",
   "id": "f6017ed7",
   "metadata": {},
   "source": [
    "<div style=\"font-family: 'Trebuchet MS', sans-serif; font-size: 36px; text-align: center; color: #FFD700; background-color: #1E1E2F; padding: 30px; border: 3px solid #FFD700; border-radius: 15px; box-shadow: 0 6px 15px rgba(0, 0, 0, 0.4); margin-bottom: 25px;\">\n",
    "    <strong>EigenFace Recognizer using OpenCV</strong>\n",
    "</div>\n"
   ]
  },
  {
   "cell_type": "markdown",
   "id": "7b748eee",
   "metadata": {},
   "source": [
    "<div style=\"font-family: 'Trebuchet MS', sans-serif; font-size: 20px; text-align: left; color: #D3D3D3; background-color: #1E1E2F; padding: 25px; border: 3px solid #FFD700; border-radius: 15px; box-shadow: 0 6px 15px rgba(0, 0, 0, 0.4); margin-bottom: 25px;\">\n",
    "    <strong style=\"color: #FFD700; font-size: 24px;\">What is EigenFace Recognition?</strong>\n",
    "    <ul style=\"color: #D3D3D3; font-size: 18px; margin-top: 10px;\">\n",
    "        <li>It is a face recognition technique based on Principal Component Analysis (PCA).</li>\n",
    "        <li>It reduces the dimensionality of face images by extracting important features (Eigenfaces).</li>\n",
    "        <li>The model then compares faces based on these features instead of pixel-by-pixel comparison.</li>\n",
    "    </ul>\n",
    "</div>\n"
   ]
  },
  {
   "cell_type": "code",
   "execution_count": 1,
   "id": "6fe46feb",
   "metadata": {},
   "outputs": [
    {
     "name": "stdout",
     "output_type": "stream",
     "text": [
      "4.11.0\n",
      "['BIF', 'BIF_create', 'BasicFaceRecognizer', 'EigenFaceRecognizer', 'EigenFaceRecognizer_create', 'FaceRecognizer', 'Facemark', 'FacemarkAAM', 'FacemarkKazemi', 'FacemarkLBF', 'FacemarkTrain', 'FisherFaceRecognizer', 'FisherFaceRecognizer_create', 'LBPHFaceRecognizer', 'LBPHFaceRecognizer_create', 'MACE', 'MACE_create', 'MACE_load', 'PredictCollector', 'StandardCollector', 'StandardCollector_create', '__doc__', '__file__', '__loader__', '__name__', '__package__', '__path__', '__spec__', '_native', 'createFacemarkAAM', 'createFacemarkKazemi', 'createFacemarkLBF', 'drawFacemarks', 'getFacesHAAR', 'loadDatasetList', 'loadFacePoints', 'loadTrainingData']\n"
     ]
    }
   ],
   "source": [
    "import cv2\n",
    "print(cv2.__version__)\n",
    "print(dir(cv2.face))  # Check if 'face' module is available\n"
   ]
  },
  {
   "cell_type": "markdown",
   "id": "ef2e9dbe",
   "metadata": {},
   "source": [
    "<div style=\"font-family: 'Trebuchet MS', sans-serif; font-size: 36px; text-align: center; color: #FFD700; background-color: #1E1E2F; padding: 30px; border: 3px solid #FFD700; border-radius: 15px; box-shadow: 0 6px 15px rgba(0, 0, 0, 0.4); margin-bottom: 25px;\">\n",
    "    <strong>Train the recognizer</strong>\n",
    "</div>\n"
   ]
  },
  {
   "cell_type": "code",
   "execution_count": 4,
   "id": "7ceaebe0",
   "metadata": {},
   "outputs": [
    {
     "name": "stdout",
     "output_type": "stream",
     "text": [
      "✅ Model trained and saved as 'eigenface_model.yml'\n"
     ]
    }
   ],
   "source": [
    "import cv2\n",
    "import os\n",
    "import numpy as np\n",
    "\n",
    "# Initialize the EigenFace Recognizer\n",
    "recognizer = cv2.face.EigenFaceRecognizer_create()\n",
    "\n",
    "# Define dataset path\n",
    "dataset_path = \"dataset/\"  # Ensure this is the correct path\n",
    "\n",
    "# Lists to store images and labels\n",
    "faces = []\n",
    "labels = []\n",
    "label_dict = {}  # To store label-name mapping\n",
    "label_id = 0\n",
    "\n",
    "# Read images and assign labels\n",
    "for person_name in os.listdir(dataset_path):\n",
    "    person_path = os.path.join(dataset_path, person_name)\n",
    "\n",
    "    if os.path.isdir(person_path):  # Ensure it's a directory\n",
    "        label_dict[label_id] = person_name  # Map label to name\n",
    "\n",
    "        for image_name in os.listdir(person_path):\n",
    "            image_path = os.path.join(person_path, image_name)\n",
    "            img = cv2.imread(image_path, cv2.IMREAD_GRAYSCALE)  # Load in grayscale\n",
    "\n",
    "            if img is None:\n",
    "                continue  # Skip if image not loaded\n",
    "\n",
    "            img = cv2.resize(img, (200, 200))  # Resize to standard size\n",
    "            faces.append(np.array(img, dtype=np.uint8))  # Convert to NumPy array\n",
    "            labels.append(label_id)\n",
    "\n",
    "        label_id += 1  # Increment label ID\n",
    "\n",
    "# Convert lists to NumPy arrays (correct type)\n",
    "faces = np.array(faces, dtype=np.uint8)  \n",
    "labels = np.array(labels, dtype=np.int32)\n",
    "\n",
    "# Train the recognizer\n",
    "recognizer.train(faces, labels)\n",
    "recognizer.save(\"eigenface_model.yml\")  # Save the trained model\n",
    "print(\"✅ Model trained and saved as 'eigenface_model.yml'\")\n"
   ]
  },
  {
   "cell_type": "markdown",
   "id": "6c5bc459",
   "metadata": {},
   "source": [
    "<div style=\"font-family: 'Trebuchet MS', sans-serif; font-size: 36px; text-align: center; color: #FFD700; background-color: #1E1E2F; padding: 30px; border: 3px solid #FFD700; border-radius: 15px; box-shadow: 0 6px 15px rgba(0, 0, 0, 0.4); margin-bottom: 25px;\">\n",
    "    <strong>Identification or Testing</strong>\n",
    "</div>\n"
   ]
  },
  {
   "cell_type": "code",
   "execution_count": 5,
   "id": "74ec5d2e",
   "metadata": {},
   "outputs": [
    {
     "name": "stdout",
     "output_type": "stream",
     "text": [
      "Press 'q' to quit\n"
     ]
    }
   ],
   "source": [
    "import cv2\n",
    "\n",
    "# Load trained model\n",
    "recognizer = cv2.face.EigenFaceRecognizer_create()\n",
    "recognizer.read(\"eigenface_model.yml\")  # Load the trained model\n",
    "\n",
    "# Load Haarcascade for face detection\n",
    "face_cascade = cv2.CascadeClassifier(cv2.data.haarcascades + \"haarcascade_frontalface_default.xml\")\n",
    "\n",
    "# Open webcam\n",
    "camera = cv2.VideoCapture(0)\n",
    "\n",
    "if not camera.isOpened():\n",
    "    print(\"Error: Unable to access the camera\")\n",
    "    exit()\n",
    "\n",
    "print(\"Press 'q' to quit\")\n",
    "\n",
    "while True:\n",
    "    ret, frame = camera.read()\n",
    "    if not ret:\n",
    "        print(\"Error: Failed to capture frame\")\n",
    "        break\n",
    "\n",
    "    gray_frame = cv2.cvtColor(frame, cv2.COLOR_BGR2GRAY)\n",
    "    faces = face_cascade.detectMultiScale(gray_frame, scaleFactor=1.1, minNeighbors=5, minSize=(100, 100))\n",
    "\n",
    "    for (x, y, w, h) in faces:\n",
    "        roi = gray_frame[y:y + h, x:x + w]\n",
    "        roi = cv2.resize(roi, (200, 200))  # Resize for model\n",
    "\n",
    "        label, confidence = recognizer.predict(roi)  # Predict face\n",
    "        name = label_dict.get(label, \"Unknown\")  # Get name from label\n",
    "\n",
    "        # Draw rectangle around face\n",
    "        color = (0, 255, 0) if name != \"Unknown\" else (0, 0, 255)  # Green for known, Red for unknown\n",
    "        cv2.rectangle(frame, (x, y), (x + w, y + h), color, 2)\n",
    "\n",
    "        # Put name on face\n",
    "        cv2.putText(frame, f\"{name} ({int(confidence)})\", (x, y - 10), cv2.FONT_HERSHEY_SIMPLEX, 0.6, color, 2)\n",
    "\n",
    "    cv2.imshow(\"Face Recognition\", frame)\n",
    "\n",
    "    if cv2.waitKey(1) & 0xFF == ord('q'):\n",
    "        break\n",
    "\n",
    "camera.release()\n",
    "cv2.destroyAllWindows()\n"
   ]
  },
  {
   "cell_type": "markdown",
   "id": "9142faae",
   "metadata": {},
   "source": [
    "# Advantages:\n",
    "- ✅ Fast computation\n",
    "- ✅ Works well in controlled lighting conditions\n",
    "- ✅ Effective for face classification\n",
    "\n",
    "# Disadvantages:\n",
    "- ❌ Sensitive to lighting changes\n",
    "- ❌ Less robust compared to modern deep learning-based face recognition methods"
   ]
  },
  {
   "cell_type": "code",
   "execution_count": null,
   "id": "6fd5bf63",
   "metadata": {},
   "outputs": [],
   "source": []
  }
 ],
 "metadata": {
  "kernelspec": {
   "display_name": "Python 3",
   "language": "python",
   "name": "python3"
  },
  "language_info": {
   "codemirror_mode": {
    "name": "ipython",
    "version": 3
   },
   "file_extension": ".py",
   "mimetype": "text/x-python",
   "name": "python",
   "nbconvert_exporter": "python",
   "pygments_lexer": "ipython3",
   "version": "3.8.8"
  }
 },
 "nbformat": 4,
 "nbformat_minor": 5
}
