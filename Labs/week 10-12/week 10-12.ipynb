{
 "cells": [
  {
   "cell_type": "markdown",
   "id": "1647a233",
   "metadata": {},
   "source": [
    "<div style=\"font-family: 'Trebuchet MS', sans-serif; font-size: 36px; text-align: center; color: #FFD700; background-color: #1E1E2F; padding: 30px; border: 3px solid #FFD700; border-radius: 15px; box-shadow: 0 6px 15px rgba(0, 0, 0, 0.4); margin-bottom: 25px;\">\n",
    "    <strong>OpenCV to Perform Face Detection on a Still Image</strong>\n",
    "</div>"
   ]
  },
  {
   "cell_type": "markdown",
   "id": "2849a090",
   "metadata": {},
   "source": [
    "<div style=\"font-family: 'Trebuchet MS', sans-serif; font-size: 20px; text-align: left; color: #D3D3D3; background-color: #1E1E2F; padding: 25px; border: 3px solid #FFD700; border-radius: 15px; box-shadow: 0 6px 15px rgba(0, 0, 0, 0.4); margin-bottom: 25px;\">\n",
    "    <strong style=\"color: #FFD700; font-size: 24px;\">Haar Cascade Models: </strong>\n",
    "    <span style=\"color: #D3D3D3;\">Haar cascade models are pre-trained models that come with OpenCV and are trained using thousands of positive and negative images. They are not deep learning-based but use classical machine learning techniques.</span>\n",
    "</div>"
   ]
  },
  {
   "cell_type": "code",
   "execution_count": 11,
   "id": "9482e4d1",
   "metadata": {},
   "outputs": [],
   "source": [
    "import cv2\n",
    "\n",
    "# Load the pre-trained Haar Cascade for face detection\n",
    "face_cascade = cv2.CascadeClassifier(cv2.data.haarcascades + 'haarcascade_frontalface_default.xml')"
   ]
  },
  {
   "cell_type": "code",
   "execution_count": 12,
   "id": "e2024015",
   "metadata": {},
   "outputs": [],
   "source": [
    "# Read the image\n",
    "image = cv2.imread(\"boys.png\")  # Replace 'image.jpg' with the path to your image\n",
    "gray_image = cv2.cvtColor(image, cv2.COLOR_BGR2GRAY)  # Convert to grayscale for better detection"
   ]
  },
  {
   "cell_type": "code",
   "execution_count": 13,
   "id": "d42881e7",
   "metadata": {},
   "outputs": [],
   "source": [
    "# Perform face detection\n",
    "faces = face_cascade.detectMultiScale(gray_image, scaleFactor=1.1, minNeighbors=5, minSize=(20, 20))"
   ]
  },
  {
   "cell_type": "code",
   "execution_count": 14,
   "id": "9d9c8f6f",
   "metadata": {},
   "outputs": [],
   "source": [
    "# Draw rectangles around the detected faces\n",
    "for (x, y, w, h) in faces:\n",
    "    cv2.rectangle(image, (x, y), (x + w, y + h), (255, 0, 0), 2)  # Blue rectangle, thickness = 2"
   ]
  },
  {
   "cell_type": "code",
   "execution_count": 15,
   "id": "7ce56331",
   "metadata": {},
   "outputs": [],
   "source": [
    "#image=cv2.resize(image,(600,400))\n",
    "# Display the image with detected faces\n",
    "cv2.imshow('Face Detection', image)\n",
    "cv2.waitKey(0)\n",
    "cv2.destroyAllWindows()"
   ]
  },
  {
   "cell_type": "markdown",
   "id": "2ea8b334",
   "metadata": {},
   "source": [
    "<div style=\"font-family: 'Trebuchet MS', sans-serif; font-size: 50px; text-align: center; color: #FFD700; background-color: #1E1E2F; padding: 30px; border: 3px solid #FFD700; border-radius: 15px; box-shadow: 0 6px 15px rgba(0, 0, 0, 0.4); margin-bottom: 25px;\">\n",
    "    <strong>ROI</strong>\n",
    "</div>"
   ]
  },
  {
   "cell_type": "markdown",
   "id": "bbf2e50d",
   "metadata": {},
   "source": [
    "<div style=\"font-family: 'Trebuchet MS', sans-serif; font-size: 20px; text-align: left; color: #D3D3D3; background-color: #1E1E2F; padding: 25px; border: 3px solid #FFD700; border-radius: 15px; box-shadow: 0 6px 15px rgba(0, 0, 0, 0.4); margin-bottom: 25px;\">\n",
    "    <strong style=\"color: #FFD700;\">Eye Detection Process: </strong>\n",
    "    <span style=\"color: #D3D3D3;\">Here we have a further step compared to the still image example: we create a region of interest corresponding to the face rectangle, and within this rectangle, we operate \"eye detection\".</span>\n",
    "</div>"
   ]
  },
  {
   "cell_type": "code",
   "execution_count": 16,
   "id": "3909beb2",
   "metadata": {},
   "outputs": [],
   "source": [
    "import cv2\n",
    "\n",
    "# Load Haar cascades\n",
    "face_cascade = cv2.CascadeClassifier(cv2.data.haarcascades + 'haarcascade_frontalface_default.xml')\n",
    "eye_cascade = cv2.CascadeClassifier(cv2.data.haarcascades + 'haarcascade_eye.xml')\n",
    "\n",
    "# Read the image\n",
    "image = cv2.imread('m2.png')  # Replace with the correct path\n",
    "\n",
    "# Check if the image was loaded successfully\n",
    "if image is None:\n",
    "    print(\"Error: Image not found. Check the file path!\")\n",
    "    exit()\n",
    "\n",
    "# Convert the image to grayscale\n",
    "gray_image = cv2.cvtColor(image, cv2.COLOR_BGR2GRAY)\n",
    "\n",
    "# Detect faces\n",
    "faces = face_cascade.detectMultiScale(gray_image, scaleFactor=1.1, minNeighbors=5, minSize=(30, 30))\n",
    "\n",
    "# Process detections\n",
    "for (x, y, w, h) in faces:\n",
    "    cv2.rectangle(image, (x, y), (x + w, y + h), (255, 0, 0), 2)\n",
    "    face_roi_gray = gray_image[y:y + h, x:x + w]\n",
    "    face_roi_color = image[y:y + h, x:x + w]\n",
    "    eyes = eye_cascade.detectMultiScale(face_roi_gray, scaleFactor=1.1, minNeighbors=3, minSize=(15, 15))\n",
    "    for (ex, ey, ew, eh) in eyes:\n",
    "        cv2.rectangle(face_roi_color, (ex, ey), (ex + ew, ey + eh), (0, 255, 0), 2)\n",
    "\n",
    "# Show the output\n",
    "cv2.imshow(\"Detected Faces and Eyes\", image)\n",
    "cv2.waitKey(0)\n",
    "cv2.destroyAllWindows()\n"
   ]
  },
  {
   "cell_type": "markdown",
   "id": "61494bf4",
   "metadata": {},
   "source": [
    "<div style=\"font-family: 'Trebuchet MS', sans-serif; font-size: 36px; text-align: center; color: #FFD700; background-color: #1E1E2F; padding: 30px; border: 3px solid #FFD700; border-radius: 15px; box-shadow: 0 6px 15px rgba(0, 0, 0, 0.4); margin-bottom: 25px;\">\n",
    "    <strong>Perform Face Detection on Video</strong>\n",
    "</div>\n"
   ]
  },
  {
   "cell_type": "code",
   "execution_count": 17,
   "id": "c21dd7f2",
   "metadata": {},
   "outputs": [
    {
     "name": "stdout",
     "output_type": "stream",
     "text": [
      "Press 'q' to quit\n"
     ]
    }
   ],
   "source": [
    "# import cv2\n",
    "\n",
    "# Load the Haar cascade for face detection\n",
    "face_cascade = cv2.CascadeClassifier(cv2.data.haarcascades + 'haarcascade_frontalface_default.xml')\n",
    "\n",
    "# Open the camera feed\n",
    "camera = cv2.VideoCapture(0)  # '0' for the default camera, replace with video file path if needed\n",
    "\n",
    "if not camera.isOpened():\n",
    "    print(\"Error: Unable to access the camera\")\n",
    "    exit()\n",
    "\n",
    "print(\"Press 'q' to quit\")\n",
    "\n",
    "while True:\n",
    "    # Read a frame from the camera\n",
    "    ret, frame = camera.read()\n",
    "    if not ret:\n",
    "        print(\"Error: Failed to capture frame\")\n",
    "        break\n",
    "\n",
    "    # Convert the frame to grayscale\n",
    "    gray_frame = cv2.cvtColor(frame, cv2.COLOR_BGR2GRAY)\n",
    "    \n",
    "    # Detect faces in the frame\n",
    "    faces = face_cascade.detectMultiScale(gray_frame, scaleFactor=1.1, minNeighbors=5, minSize=(30, 30))\n",
    "\n",
    "    # Draw rectangles around detected faces\n",
    "    for (x, y, w, h) in faces:\n",
    "        cv2.rectangle(frame, (x, y), (x + w, y + h), (200, 0, 0), 2)  # Blue rectangle\n",
    "    frame = cv2.flip(frame,2)\n",
    "    # Display the frame with face detection\n",
    "    cv2.imshow(\"Face Detection\", frame)\n",
    "\n",
    "    # Break the loop if 'q' is pressed\n",
    "    if cv2.waitKey(1) & 0xFF == ord('q'):\n",
    "        break\n",
    "\n",
    "# Release the camera and close all windows\n",
    "camera.release()\n",
    "cv2.destroyAllWindows()\n"
   ]
  },
  {
   "cell_type": "markdown",
   "id": "a3d9c0e4",
   "metadata": {},
   "source": [
    "# ROI (Eye Detection)"
   ]
  },
  {
   "cell_type": "code",
   "execution_count": 18,
   "id": "c3b586ea",
   "metadata": {},
   "outputs": [
    {
     "name": "stdout",
     "output_type": "stream",
     "text": [
      "Press 'q' to quit\n"
     ]
    }
   ],
   "source": [
    "import cv2\n",
    "\n",
    "# Load the Haar cascades for face and eye detection\n",
    "face_cascade = cv2.CascadeClassifier(cv2.data.haarcascades + 'haarcascade_frontalface_default.xml')\n",
    "eye_cascade = cv2.CascadeClassifier(cv2.data.haarcascades + 'haarcascade_eye.xml')\n",
    "\n",
    "# Open the camera feed\n",
    "camera = cv2.VideoCapture(0)  # '0' for the default camera, replace with video file path if needed\n",
    "\n",
    "if not camera.isOpened():\n",
    "    print(\"Error: Unable to access the camera\")\n",
    "    exit()\n",
    "\n",
    "print(\"Press 'q' to quit\")\n",
    "\n",
    "while True:\n",
    "    # Read a frame from the camera\n",
    "    ret, frame = camera.read()\n",
    "    if not ret:\n",
    "        print(\"Error: Failed to capture frame\")\n",
    "        break\n",
    "\n",
    "    # Convert the frame to grayscale\n",
    "    gray_frame = cv2.cvtColor(frame, cv2.COLOR_BGR2GRAY)\n",
    "    \n",
    "    # Detect faces in the frame\n",
    "    faces = face_cascade.detectMultiScale(gray_frame, scaleFactor=1.1, minNeighbors=5, minSize=(30, 30))\n",
    "\n",
    "    # Draw rectangles around detected faces and detect eyes within faces\n",
    "    for (x, y, w, h) in faces:\n",
    "        cv2.rectangle(frame, (x, y), (x + w, y + h), (255, 0, 0), 2)  # Blue rectangle for face\n",
    "        \n",
    "        # Define the region of interest for eyes within the detected face\n",
    "        roi_gray = gray_frame[y:y+h, x:x+w]\n",
    "        roi_color = frame[y:y+h, x:x+w]\n",
    "        \n",
    "        # Detect eyes within the face region\n",
    "        eyes = eye_cascade.detectMultiScale(roi_gray, scaleFactor=1.1, minNeighbors=5, minSize=(15, 15))\n",
    "        \n",
    "        for (ex, ey, ew, eh) in eyes:\n",
    "            cv2.rectangle(roi_color, (ex, ey), (ex + ew, ey + eh), (0, 255, 0), 2)  # Green rectangle for eyes\n",
    "    \n",
    "    frame = cv2.flip(frame, 2)\n",
    "    \n",
    "    # Display the frame with face and eye detection\n",
    "    cv2.imshow(\"Face and Eye Detection\", frame)\n",
    "\n",
    "    # Break the loop if 'q' is pressed\n",
    "    if cv2.waitKey(1) & 0xFF == ord('q'):\n",
    "        break\n",
    "\n",
    "# Release the camera and close all windows\n",
    "camera.release()\n",
    "cv2.destroyAllWindows()\n"
   ]
  },
  {
   "cell_type": "code",
   "execution_count": null,
   "id": "f7282678",
   "metadata": {},
   "outputs": [],
   "source": []
  }
 ],
 "metadata": {
  "kernelspec": {
   "display_name": "Python 3",
   "language": "python",
   "name": "python3"
  },
  "language_info": {
   "codemirror_mode": {
    "name": "ipython",
    "version": 3
   },
   "file_extension": ".py",
   "mimetype": "text/x-python",
   "name": "python",
   "nbconvert_exporter": "python",
   "pygments_lexer": "ipython3",
   "version": "3.8.8"
  }
 },
 "nbformat": 4,
 "nbformat_minor": 5
}
