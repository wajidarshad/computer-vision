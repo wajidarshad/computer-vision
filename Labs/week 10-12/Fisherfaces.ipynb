{
 "cells": [
  {
   "cell_type": "code",
   "execution_count": 1,
   "id": "10d7e847",
   "metadata": {},
   "outputs": [
    {
     "name": "stdout",
     "output_type": "stream",
     "text": [
      "Training complete. Model and labels saved.\n"
     ]
    }
   ],
   "source": [
    "import cv2\n",
    "import numpy as np\n",
    "import os\n",
    "\n",
    "# Path to dataset\n",
    "dataset_path = \"dataset\"\n",
    "fixed_size = (200, 200)  # Ensure all images have the same size\n",
    "\n",
    "images = []\n",
    "labels = []\n",
    "label_dict = {}  # Store label-to-name mapping\n",
    "current_label = 0\n",
    "\n",
    "# Load dataset\n",
    "for person_name in os.listdir(dataset_path):\n",
    "    person_path = os.path.join(dataset_path, person_name)\n",
    "    if os.path.isdir(person_path):\n",
    "        label_dict[current_label] = person_name\n",
    "        for img_name in os.listdir(person_path):\n",
    "            img_path = os.path.join(person_path, img_name)\n",
    "            img = cv2.imread(img_path, cv2.IMREAD_GRAYSCALE)  # Convert to grayscale\n",
    "            \n",
    "            if img is None:\n",
    "                print(f\"Skipping {img_path}, cannot read image.\")\n",
    "                continue\n",
    "            \n",
    "            img = cv2.resize(img, fixed_size)  # Resize to fixed size\n",
    "            images.append(img)\n",
    "            labels.append(current_label)\n",
    "        current_label += 1\n",
    "\n",
    "# Convert lists to numpy arrays\n",
    "labels = np.array(labels)\n",
    "\n",
    "# Train Fisherfaces Recognizer\n",
    "recognizer = cv2.face.FisherFaceRecognizer_create()\n",
    "recognizer.train(images, labels)\n",
    "\n",
    "# Save the trained model\n",
    "recognizer.save(\"fisherfaces_model.yml\")\n",
    "\n",
    "# Save label mappings\n",
    "np.save(\"labels.npy\", label_dict)\n",
    "\n",
    "print(\"Training complete. Model and labels saved.\")\n"
   ]
  },
  {
   "cell_type": "code",
   "execution_count": 4,
   "id": "dc7cc3a3",
   "metadata": {},
   "outputs": [],
   "source": [
    "import cv2\n",
    "import numpy as np\n",
    "\n",
    "# Load the trained Fisherfaces model\n",
    "recognizer = cv2.face.FisherFaceRecognizer_create()\n",
    "recognizer.read(\"fisherfaces_model.yml\")\n",
    "\n",
    "# Load label dictionary\n",
    "label_dict = np.load(\"labels.npy\", allow_pickle=True).item()\n",
    "\n",
    "# Initialize face detector\n",
    "face_cascade = cv2.CascadeClassifier(cv2.data.haarcascades + \"haarcascade_frontalface_default.xml\")\n",
    "\n",
    "# Open webcam\n",
    "cap = cv2.VideoCapture(0)\n",
    "\n",
    "while True:\n",
    "    ret, frame = cap.read()\n",
    "    if not ret:\n",
    "        break\n",
    "\n",
    "    gray = cv2.cvtColor(frame, cv2.COLOR_BGR2GRAY)  # Convert frame to grayscale\n",
    "    faces = face_cascade.detectMultiScale(gray, scaleFactor=1.3, minNeighbors=5)\n",
    "\n",
    "    for (x, y, w, h) in faces:\n",
    "        face_roi = gray[y:y + h, x:x + w]  # Extract face region\n",
    "        face_roi = cv2.resize(face_roi, (200, 200))  # Resize for model compatibility\n",
    "\n",
    "        # Recognize face\n",
    "        label, confidence = recognizer.predict(face_roi)\n",
    "        name = label_dict.get(label, \"Unknown\")\n",
    "\n",
    "        # Display results\n",
    "        cv2.putText(frame, f\"{name} ({confidence:.2f})\", (x, y - 10),\n",
    "                    cv2.FONT_HERSHEY_SIMPLEX, 0.8, (0, 255, 0), 2)\n",
    "        cv2.rectangle(frame, (x, y), (x + w, y + h), (0, 255, 0), 2)\n",
    "\n",
    "    cv2.imshow(\"Fisherfaces Face Recognition\", frame)\n",
    "\n",
    "    if cv2.waitKey(1) & 0xFF == ord('q'):  # Press 'q' to exit\n",
    "        break\n",
    "\n",
    "cap.release()\n",
    "cv2.destroyAllWindows()\n"
   ]
  },
  {
   "cell_type": "code",
   "execution_count": null,
   "id": "5647bd13",
   "metadata": {},
   "outputs": [],
   "source": []
  }
 ],
 "metadata": {
  "kernelspec": {
   "display_name": "Python 3",
   "language": "python",
   "name": "python3"
  },
  "language_info": {
   "codemirror_mode": {
    "name": "ipython",
    "version": 3
   },
   "file_extension": ".py",
   "mimetype": "text/x-python",
   "name": "python",
   "nbconvert_exporter": "python",
   "pygments_lexer": "ipython3",
   "version": "3.8.8"
  }
 },
 "nbformat": 4,
 "nbformat_minor": 5
}
